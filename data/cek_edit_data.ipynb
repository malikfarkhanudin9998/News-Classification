{
 "cells": [
  {
   "cell_type": "code",
   "execution_count": 7,
   "metadata": {},
   "outputs": [
    {
     "data": {
      "text/html": [
       "<div>\n",
       "<style scoped>\n",
       "    .dataframe tbody tr th:only-of-type {\n",
       "        vertical-align: middle;\n",
       "    }\n",
       "\n",
       "    .dataframe tbody tr th {\n",
       "        vertical-align: top;\n",
       "    }\n",
       "\n",
       "    .dataframe thead th {\n",
       "        text-align: right;\n",
       "    }\n",
       "</style>\n",
       "<table border=\"1\" class=\"dataframe\">\n",
       "  <thead>\n",
       "    <tr style=\"text-align: right;\">\n",
       "      <th></th>\n",
       "      <th>Judul</th>\n",
       "      <th>Keterangan</th>\n",
       "    </tr>\n",
       "  </thead>\n",
       "  <tbody>\n",
       "    <tr>\n",
       "      <th>0</th>\n",
       "      <td>7 Posisi dengan Gaji Paling Tinggi di Indonesi...</td>\n",
       "      <td>Clickbait</td>\n",
       "    </tr>\n",
       "    <tr>\n",
       "      <th>1</th>\n",
       "      <td>BTS Bakal Comeback dengan Lagu Berbahasa Inggr...</td>\n",
       "      <td>NonClickbait</td>\n",
       "    </tr>\n",
       "    <tr>\n",
       "      <th>2</th>\n",
       "      <td>Leicester Juara Piala FA, Kado buat Top si Pem...</td>\n",
       "      <td>NonClickbait</td>\n",
       "    </tr>\n",
       "    <tr>\n",
       "      <th>3</th>\n",
       "      <td>Gunung Merapi Erupsi, Luncurkan Awan Panas Sej...</td>\n",
       "      <td>NonClickbait</td>\n",
       "    </tr>\n",
       "    <tr>\n",
       "      <th>4</th>\n",
       "      <td>Disetop Sementara, Ini Sebaran Vaksin AstraZen...</td>\n",
       "      <td>Clickbait</td>\n",
       "    </tr>\n",
       "    <tr>\n",
       "      <th>...</th>\n",
       "      <td>...</td>\n",
       "      <td>...</td>\n",
       "    </tr>\n",
       "    <tr>\n",
       "      <th>95</th>\n",
       "      <td>Wapres Ma'ruf Minta UIN Jakarta Bertransformas...</td>\n",
       "      <td>NonClickbait</td>\n",
       "    </tr>\n",
       "    <tr>\n",
       "      <th>96</th>\n",
       "      <td>Jokowi Ungkap 2 Penyebab Lonjakan Kasus Corona...</td>\n",
       "      <td>NonClickbait</td>\n",
       "    </tr>\n",
       "    <tr>\n",
       "      <th>97</th>\n",
       "      <td>Ini Daftar Mal di Jakarta yang Menyediakan Vak...</td>\n",
       "      <td>Clickbait</td>\n",
       "    </tr>\n",
       "    <tr>\n",
       "      <th>98</th>\n",
       "      <td>Nekat! Bodi Innova Langsung Penyok Gara-gara N...</td>\n",
       "      <td>Clickbait</td>\n",
       "    </tr>\n",
       "    <tr>\n",
       "      <th>99</th>\n",
       "      <td>Cemburu Anang dan Ashanty Berpelukan, Arsya He...</td>\n",
       "      <td>Clickbait</td>\n",
       "    </tr>\n",
       "  </tbody>\n",
       "</table>\n",
       "<p>100 rows × 2 columns</p>\n",
       "</div>"
      ],
      "text/plain": [
       "                                                Judul    Keterangan\n",
       "0   7 Posisi dengan Gaji Paling Tinggi di Indonesi...     Clickbait\n",
       "1   BTS Bakal Comeback dengan Lagu Berbahasa Inggr...  NonClickbait\n",
       "2   Leicester Juara Piala FA, Kado buat Top si Pem...  NonClickbait\n",
       "3   Gunung Merapi Erupsi, Luncurkan Awan Panas Sej...  NonClickbait\n",
       "4   Disetop Sementara, Ini Sebaran Vaksin AstraZen...     Clickbait\n",
       "..                                                ...           ...\n",
       "95  Wapres Ma'ruf Minta UIN Jakarta Bertransformas...  NonClickbait\n",
       "96  Jokowi Ungkap 2 Penyebab Lonjakan Kasus Corona...  NonClickbait\n",
       "97  Ini Daftar Mal di Jakarta yang Menyediakan Vak...     Clickbait\n",
       "98  Nekat! Bodi Innova Langsung Penyok Gara-gara N...     Clickbait\n",
       "99  Cemburu Anang dan Ashanty Berpelukan, Arsya He...     Clickbait\n",
       "\n",
       "[100 rows x 2 columns]"
      ]
     },
     "execution_count": 7,
     "metadata": {},
     "output_type": "execute_result"
    }
   ],
   "source": [
    "import pandas as pd\n",
    "import matplotlib.pyplot as plt\n",
    "data = pd.read_csv('dataujiv2.csv')\n",
    "data"
   ]
  },
  {
   "cell_type": "code",
   "execution_count": 8,
   "metadata": {},
   "outputs": [
    {
     "data": {
      "text/plain": [
       "NonClickbait    61\n",
       "Clickbait       39\n",
       "Name: Keterangan, dtype: int64"
      ]
     },
     "execution_count": 8,
     "metadata": {},
     "output_type": "execute_result"
    }
   ],
   "source": [
    "data['Keterangan'].value_counts()"
   ]
  },
  {
   "cell_type": "code",
   "execution_count": 8,
   "metadata": {},
   "outputs": [
    {
     "ename": "NameError",
     "evalue": "name 'preproLatih' is not defined",
     "output_type": "error",
     "traceback": [
      "\u001b[1;31m---------------------------------------------------------------------------\u001b[0m",
      "\u001b[1;31mNameError\u001b[0m                                 Traceback (most recent call last)",
      "\u001b[1;32m<ipython-input-8-6f16fb4400b5>\u001b[0m in \u001b[0;36m<module>\u001b[1;34m\u001b[0m\n\u001b[0;32m     20\u001b[0m \u001b[0mhasil_prepro\u001b[0m \u001b[1;33m=\u001b[0m \u001b[1;33m[\u001b[0m\u001b[1;33m]\u001b[0m\u001b[1;33m\u001b[0m\u001b[1;33m\u001b[0m\u001b[0m\n\u001b[0;32m     21\u001b[0m \u001b[1;32mfor\u001b[0m \u001b[0mindex\u001b[0m\u001b[1;33m,\u001b[0m \u001b[0mrow\u001b[0m \u001b[1;32min\u001b[0m \u001b[0mdata_baru\u001b[0m\u001b[1;33m.\u001b[0m\u001b[0miterrows\u001b[0m\u001b[1;33m(\u001b[0m\u001b[1;33m)\u001b[0m\u001b[1;33m:\u001b[0m\u001b[1;33m\u001b[0m\u001b[1;33m\u001b[0m\u001b[0m\n\u001b[1;32m---> 22\u001b[1;33m         \u001b[0mhasil_prepro\u001b[0m\u001b[1;33m.\u001b[0m\u001b[0mappend\u001b[0m\u001b[1;33m(\u001b[0m\u001b[0mpreproLatih\u001b[0m\u001b[1;33m(\u001b[0m\u001b[0mrow\u001b[0m\u001b[1;33m[\u001b[0m\u001b[1;34m\"Judul\"\u001b[0m\u001b[1;33m]\u001b[0m\u001b[1;33m)\u001b[0m\u001b[1;33m)\u001b[0m\u001b[1;33m\u001b[0m\u001b[1;33m\u001b[0m\u001b[0m\n\u001b[0m\u001b[0;32m     23\u001b[0m \u001b[1;33m\u001b[0m\u001b[0m\n\u001b[0;32m     24\u001b[0m \u001b[0mdata_baru\u001b[0m\u001b[1;33m[\u001b[0m\u001b[1;34m\"Judul\"\u001b[0m\u001b[1;33m]\u001b[0m \u001b[1;33m=\u001b[0m \u001b[0mhasil_prepro\u001b[0m\u001b[1;33m\u001b[0m\u001b[1;33m\u001b[0m\u001b[0m\n",
      "\u001b[1;31mNameError\u001b[0m: name 'preproLatih' is not defined"
     ]
    }
   ],
   "source": [
    "from sklearn.model_selection import train_test_split\n",
    "\n",
    "label = []\n",
    "for i in range(len(data)) :\n",
    "\tif data.loc[i, \"Keterangan\"] =='Clickbait':\n",
    "\t\tlabel.append(1)\n",
    "\telse:\n",
    "\t\tlabel.append(0)\n",
    "\n",
    "data['label']=label\n",
    "data.drop(['Keterangan'], axis=1, inplace=True)\n",
    "data.drop_duplicates(subset=['Judul'])\n",
    "\n",
    "data_baru = data.copy()\n",
    "\n",
    "\t# fb1 = data_baru[data_baru['label']==0].sample(800,replace=True)\n",
    "\t# fb2 = data_baru[data_baru['label']==1].sample(800,replace=True)\n",
    "\t# data_baru = pd.concat([fb1,fb2])\n",
    "\n",
    "hasil_prepro = []\n",
    "for index, row in data_baru.iterrows():\n",
    "\thasil_prepro.append(preproLatih(row[\"Judul\"]))\n",
    "\t\n",
    "data_baru[\"Judul\"] = hasil_prepro"
   ]
  },
  {
   "cell_type": "code",
   "execution_count": 10,
   "metadata": {},
   "outputs": [
    {
     "name": "stdout",
     "output_type": "stream",
     "text": [
      "No. of training examples: 1120\n",
      "No. of testing examples: 280\n",
      "No. of training examples: 1120\n",
      "No. of testing examples: 280\n"
     ]
    }
   ],
   "source": [
    "X_train, X_test, y_train, y_test = train_test_split(data['Judul'], data['label'], test_size=0.2, stratify=data_baru['label'], random_state=30)\n",
    "\n",
    "print(f\"No. of training examples: {X_train.shape[0]}\")\n",
    "print(f\"No. of testing examples: {X_test.shape[0]}\")\n",
    "print(f\"No. of training examples: {y_train.shape[0]}\")\n",
    "print(f\"No. of testing examples: {y_test.shape[0]}\")"
   ]
  },
  {
   "cell_type": "code",
   "execution_count": 17,
   "metadata": {},
   "outputs": [
    {
     "data": {
      "text/html": [
       "<div>\n",
       "<style scoped>\n",
       "    .dataframe tbody tr th:only-of-type {\n",
       "        vertical-align: middle;\n",
       "    }\n",
       "\n",
       "    .dataframe tbody tr th {\n",
       "        vertical-align: top;\n",
       "    }\n",
       "\n",
       "    .dataframe thead th {\n",
       "        text-align: right;\n",
       "    }\n",
       "</style>\n",
       "<table border=\"1\" class=\"dataframe\">\n",
       "  <thead>\n",
       "    <tr style=\"text-align: right;\">\n",
       "      <th></th>\n",
       "      <th>Judul</th>\n",
       "      <th>Keterangan</th>\n",
       "    </tr>\n",
       "  </thead>\n",
       "  <tbody>\n",
       "    <tr>\n",
       "      <th>0</th>\n",
       "      <td>Sosok Eks Kasat Reskrim Polres Wonogiri: Suka ...</td>\n",
       "      <td>Clickbait</td>\n",
       "    </tr>\n",
       "    <tr>\n",
       "      <th>1</th>\n",
       "      <td>Wagub DKI Ungkap Isi Pertemuan Anies dengan Pr...</td>\n",
       "      <td>NonClickbait</td>\n",
       "    </tr>\n",
       "    <tr>\n",
       "      <th>2</th>\n",
       "      <td>Lazio Kalah dari AC Milan, Maurizio Sarri Bebe...</td>\n",
       "      <td>NonClickbait</td>\n",
       "    </tr>\n",
       "    <tr>\n",
       "      <th>3</th>\n",
       "      <td>Tanda Tanya Kasus Corona Turun Drastis di India</td>\n",
       "      <td>NonClickbait</td>\n",
       "    </tr>\n",
       "    <tr>\n",
       "      <th>4</th>\n",
       "      <td>Unik, Tiap Rumah Warga di Kampung Ini Punya Ko...</td>\n",
       "      <td>Clickbait</td>\n",
       "    </tr>\n",
       "    <tr>\n",
       "      <th>...</th>\n",
       "      <td>...</td>\n",
       "      <td>...</td>\n",
       "    </tr>\n",
       "    <tr>\n",
       "      <th>1393</th>\n",
       "      <td>Pesona Istri Para Kapolres, Selain Cantik Ada ...</td>\n",
       "      <td>NonClickbait</td>\n",
       "    </tr>\n",
       "    <tr>\n",
       "      <th>1394</th>\n",
       "      <td>VIRAL Kisah Wanita Kumpulkan Testpack selama 7...</td>\n",
       "      <td>Clickbait</td>\n",
       "    </tr>\n",
       "    <tr>\n",
       "      <th>1395</th>\n",
       "      <td>Remaja Indramayu Diduga Jadi Korban Asusila Ka...</td>\n",
       "      <td>Clickbait</td>\n",
       "    </tr>\n",
       "    <tr>\n",
       "      <th>1396</th>\n",
       "      <td>Potret Cantik Kirana Rafli Putri Eks Kapolda P...</td>\n",
       "      <td>Clickbait</td>\n",
       "    </tr>\n",
       "    <tr>\n",
       "      <th>1397</th>\n",
       "      <td>Daftar Tempat Wisata di Jakarta yang Tetap Buk...</td>\n",
       "      <td>Clickbait</td>\n",
       "    </tr>\n",
       "  </tbody>\n",
       "</table>\n",
       "<p>1398 rows × 2 columns</p>\n",
       "</div>"
      ],
      "text/plain": [
       "                                                  Judul    Keterangan\n",
       "0     Sosok Eks Kasat Reskrim Polres Wonogiri: Suka ...     Clickbait\n",
       "1     Wagub DKI Ungkap Isi Pertemuan Anies dengan Pr...  NonClickbait\n",
       "2     Lazio Kalah dari AC Milan, Maurizio Sarri Bebe...  NonClickbait\n",
       "3       Tanda Tanya Kasus Corona Turun Drastis di India  NonClickbait\n",
       "4     Unik, Tiap Rumah Warga di Kampung Ini Punya Ko...     Clickbait\n",
       "...                                                 ...           ...\n",
       "1393  Pesona Istri Para Kapolres, Selain Cantik Ada ...  NonClickbait\n",
       "1394  VIRAL Kisah Wanita Kumpulkan Testpack selama 7...     Clickbait\n",
       "1395  Remaja Indramayu Diduga Jadi Korban Asusila Ka...     Clickbait\n",
       "1396  Potret Cantik Kirana Rafli Putri Eks Kapolda P...     Clickbait\n",
       "1397  Daftar Tempat Wisata di Jakarta yang Tetap Buk...     Clickbait\n",
       "\n",
       "[1398 rows x 2 columns]"
      ]
     },
     "execution_count": 17,
     "metadata": {},
     "output_type": "execute_result"
    }
   ],
   "source": [
    "import pandas as pd\n",
    "import matplotlib.pyplot as plt\n",
    "data = pd.read_csv('data_copy.csv')\n",
    "data"
   ]
  },
  {
   "cell_type": "code",
   "execution_count": 18,
   "metadata": {},
   "outputs": [
    {
     "data": {
      "text/plain": [
       "NonClickbait    845\n",
       "Clickbait       553\n",
       "Name: Keterangan, dtype: int64"
      ]
     },
     "execution_count": 18,
     "metadata": {},
     "output_type": "execute_result"
    }
   ],
   "source": [
    "data['Keterangan'].value_counts()"
   ]
  },
  {
   "cell_type": "code",
   "execution_count": 34,
   "metadata": {},
   "outputs": [
    {
     "data": {
      "image/png": "[encoded data removed]",
      "text/plain": [
       "<Figure size 576x360 with 1 Axes>"
      ]
     },
     "metadata": {},
     "output_type": "display_data"
    }
   ],
   "source": [
    "gdata = data['Keterangan'].value_counts()\n",
    "mylabels = [\"Non clickbait\", \"Clickbait\"]\n",
    "mycolors = [\"cyan\", \"beige\"]\n",
    "myexplode = [0, 0.1]\n",
    "wp = { 'linewidth' : 1, 'edgecolor' : \"black\" }\n",
    "def func(pct, allvalues):\n",
    "\tabsolute = int(pct / 100.*np.sum(allvalues))\n",
    "\treturn \"{:.1f}%\\n{:d} Data\".format(pct, absolute)\n",
    "\n",
    "plt.subplots(figsize =(8, 5))\n",
    "plt.pie(gdata, labels=mylabels, startangle = 90, autopct = lambda pct: func(pct, gdata),colors = mycolors,explode = myexplode, shadow = True, wedgeprops = wp)\n",
    "plt.legend(title = \"Hasil Klasifikasi:\")\n",
    "plt.title(\"Klasifikasi Data Uji\")\n",
    "plt.show()"
   ]
  },
  {
   "cell_type": "code",
   "execution_count": 6,
   "metadata": {},
   "outputs": [
    {
     "data": {
      "image/png": "[encoded data removed]",
      "text/plain": [
       "<Figure size 720x504 with 1 Axes>"
      ]
     },
     "metadata": {},
     "output_type": "display_data"
    }
   ],
   "source": [
    "# Import libraries\n",
    "import numpy as np\n",
    "import matplotlib.pyplot as plt\n",
    "\n",
    "\n",
    "# Creating dataset\n",
    "cars = ['AUDI', 'BMW', 'FORD','TESLA', 'JAGUAR', 'MERCEDES']\n",
    "data = [23, 17, 35, 29, 12, 41]\n",
    "\n",
    "# Creating explode data\n",
    "explode = (0.1, 0.0, 0.2, 0.3, 0.0, 0.0)\n",
    "\n",
    "# Creating color parameters\n",
    "colors = ( \"orange\", \"cyan\", \"brown\", \"grey\", \"indigo\", \"beige\")\n",
    "\n",
    "# Wedge properties\n",
    "wp = { 'linewidth' : 1, 'edgecolor' : \"green\" }\n",
    "\n",
    "# Creating autocpt arguments\n",
    "def func(pct, allvalues):\n",
    "\tabsolute = int(pct / 100.*np.sum(allvalues))\n",
    "\treturn \"{:.1f}%\\n({:d} g)\".format(pct, absolute)\n",
    "\n",
    "# Creating plot\n",
    "fig, ax = plt.subplots(figsize =(10, 7))\n",
    "wedges, texts, autotexts = ax.pie(data, autopct = lambda pct: func(pct, data), explode = explode, labels = cars, shadow = True, colors = colors, startangle = 90, wedgeprops = wp, textprops = dict(color =\"magenta\"))\n",
    "\n",
    "# Adding legend\n",
    "ax.legend(wedges, cars, title =\"Cars\", loc =\"center left\",bbox_to_anchor =(1, 0, 0.5, 1))\n",
    "\n",
    "plt.setp(autotexts, size = 8, weight =\"bold\")\n",
    "ax.set_title(\"Customizing pie chart\")\n",
    "\n",
    "# show plot\n",
    "plt.show()\n"
   ]
  },
  {
   "cell_type": "code",
   "execution_count": 5,
   "metadata": {},
   "outputs": [
    {
     "name": "stdout",
     "output_type": "stream",
     "text": [
      "Info BMKG Senin,  Mei : Waspadai Gelombang Tinggi Capai  Meter di Samudra Hindia Selatan Jawa\n",
      "Info BMKG Senin  Mei  Waspadai Gelombang Tinggi Capai  Meter di Samudra Hindia Selatan Jawa\n"
     ]
    }
   ],
   "source": [
    "import re\n",
    "\n",
    "data = \"Info BMKG Senin, 10 Mei 2021: Waspadai Gelombang Tinggi Capai 6 Meter di Samudra Hindia Selatan Jawa\"\n",
    "hasil_re = re.sub(r'([0-9]+)', '', data)\n",
    "hasil_re2 = data = re.sub(r'([^a-zA-Z0-9\\s]+)', '', hasil_re)\n",
    "print(hasil_re)\n",
    "print(hasil_re2)"
   ]
  },
  {
   "cell_type": "code",
   "execution_count": 1,
   "metadata": {},
   "outputs": [],
   "source": [
    "import re\n",
    "import nltk\n",
    "from nltk import sent_tokenize, word_tokenize\n",
    "from nltk.corpus import stopwords\n",
    "from nltk.tokenize import word_tokenize\n",
    "\n",
    "from Sastrawi.Stemmer.StemmerFactory import StemmerFactory\n",
    "from Sastrawi.StopWordRemover.StopWordRemoverFactory import StopWordRemoverFactory, StopWordRemover, ArrayDictionary"
   ]
  },
  {
   "cell_type": "code",
   "execution_count": 2,
   "metadata": {},
   "outputs": [],
   "source": [
    "f_stem = StemmerFactory()\n",
    "stemmer = f_stem.create_stemmer()\n",
    "f_stop = StopWordRemoverFactory()\n",
    "getStop = f_stop.get_stop_words()\n",
    "\n",
    "unwanted_num = {'akankah', 'akhirnya', 'apa', 'apakah', 'bagaimana', 'bagaimanakah', 'begini', 'benarkah', 'berapa', 'berapakah', 'disebut', 'ini', 'kapan','kenapa', 'ketika', 'kok', 'mengapa', 'ungkap', 'wah', 'sebut', 'dimana'}\n",
    "getStop = [ele for ele in getStop if ele not in unwanted_num]\n",
    "\n",
    "dictionary = ArrayDictionary(getStop)\n",
    "stopword = StopWordRemover(dictionary)"
   ]
  },
  {
   "cell_type": "code",
   "execution_count": 3,
   "metadata": {},
   "outputs": [],
   "source": [
    "def prepro(data):\n",
    "    data = data.lower()\n",
    "    data = re.sub(r'([0-9]+)', '', data)\n",
    "    data = re.sub(r'([^a-zA-Z0-9\\s]+)', '', data)\n",
    "    data = stopword.remove(data)\n",
    "    data = stemmer.stem(data)\n",
    "    \n",
    "    return data"
   ]
  },
  {
   "cell_type": "code",
   "execution_count": 5,
   "metadata": {},
   "outputs": [
    {
     "name": "stdout",
     "output_type": "stream",
     "text": [
      "Wow! Tiram Raksasa Ini Ukurannya Jumbo tapi Harganya Murah\n",
      "Pakaian Kaku Setelah Dijemur? Coba Cara Ini\n",
      "Jangan Asal, Ini Tips Memilih Makanan Kucing\n",
      "Hilangkan Bau pada Karpet dengan Bahan Alami Ini\n",
      "Garuda Putuskan Kontrak Pesawat yang Merugikan\n",
      "Follow Up Rekruter Setelah Interview, Kenapa Tidak?\n",
      "Wagub DKI Ungkap Isi Pertemuan Anies dengan Prabowo\n"
     ]
    }
   ],
   "source": [
    "list = ['Wow! Tiram Raksasa Ini Ukurannya Jumbo tapi Harganya Murah',\n",
    "        'Pakaian Kaku Setelah Dijemur? Coba Cara Ini',\n",
    "        'Jangan Asal, Ini Tips Memilih Makanan Kucing',\n",
    "        'Hilangkan Bau pada Karpet dengan Bahan Alami Ini',\n",
    "        'Garuda Putuskan Kontrak Pesawat yang Merugikan',\n",
    "       'Follow Up Rekruter Setelah Interview, Kenapa Tidak?',\n",
    "       'Wagub DKI Ungkap Isi Pertemuan Anies dengan Prabowo']\n",
    "\n",
    "for i in list:\n",
    "    print(i)"
   ]
  },
  {
   "cell_type": "code",
   "execution_count": 6,
   "metadata": {},
   "outputs": [
    {
     "name": "stdout",
     "output_type": "stream",
     "text": [
      "wow tiram raksasa ini ukur jumbo harga murah\n",
      "pakai kaku jemur coba ini\n",
      "ini tips pilih makan kucing\n",
      "hilang bau karpet bahan alami ini\n",
      "garuda putus kontrak pesawat rugi\n",
      "follow up rekruter interview kenapa\n",
      "wagub dki ungkap isi temu anies prabowo\n"
     ]
    }
   ],
   "source": [
    "hasil_prepro = []\n",
    "for i in list:\n",
    "    hasil_prepro.append(prepro(i))\n",
    "\n",
    "for j in hasil_prepro:\n",
    "    print(j)"
   ]
  },
  {
   "cell_type": "code",
   "execution_count": 18,
   "metadata": {},
   "outputs": [
    {
     "data": {
      "text/plain": [
       "'fakta dukun gadungan garut habis pasien modus ritual ganda uang motif sakit hati'"
      ]
     },
     "execution_count": 18,
     "metadata": {},
     "output_type": "execute_result"
    }
   ],
   "source": [
    "data = prepro('5 FAKTA Dukun Gadungan di Garut Habisi 2 Pasiennya: Modus Ritual Penggandaan Uang, Motif Sakit Hati')\n",
    "data"
   ]
  },
  {
   "cell_type": "code",
   "execution_count": 22,
   "metadata": {},
   "outputs": [
    {
     "data": {
      "text/plain": [
       "'tanam hias harum ruang alami'"
      ]
     },
     "execution_count": 22,
     "metadata": {},
     "output_type": "execute_result"
    }
   ],
   "source": [
    "data2 = prepro(\"4 Tanaman Hias yang Mengharumkan Ruangan Secara Alami\")\n",
    "data2"
   ]
  },
  {
   "cell_type": "code",
   "execution_count": 21,
   "metadata": {},
   "outputs": [
    {
     "data": {
      "text/plain": [
       "'balas cuit ciri cerita fakta gaya hewan hidang ide jenis kreasi lurah langkah manusia model momen nama sakit pantang pasang potret sebab pesona permen resep tanda tanam transformasi tingkah tips variasi'"
      ]
     },
     "execution_count": 21,
     "metadata": {},
     "output_type": "execute_result"
    }
   ],
   "source": [
    "ilang = prepro(\"Balasan cuitan Cara Ciri Cerita FAKTA Gaya hewan hidangan Hal Ide jenis Kreasi Kasus Kelurahan Langkah manusia Model Momen Nama Penyakit Pantangan Pasangan, Potret Penyebab Pesona permen Resep Tanda Tanaman Transformasi tingkah Tempat Tips Variasi?????><><><><><><><>       \")\n",
    "ilang"
   ]
  },
  {
   "cell_type": "code",
   "execution_count": null,
   "metadata": {},
   "outputs": [],
   "source": []
  }
 ],
 "metadata": {
  "kernelspec": {
   "display_name": "Python 3",
   "language": "python",
   "name": "python3"
  }
 },
 "nbformat": 4,
 "nbformat_minor": 4
}
